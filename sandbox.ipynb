{
 "cells": [
  {
   "cell_type": "code",
   "execution_count": 1,
   "id": "1375e6d8-4150-4359-9f0c-1562ddc44fb8",
   "metadata": {},
   "outputs": [],
   "source": [
    "from lhotse import load_manifest, CutSet\n",
    "import os\n",
    "import json\n",
    "from tqdm import tqdm"
   ]
  },
  {
   "cell_type": "code",
   "execution_count": 35,
   "id": "e970d8e6-89a3-4858-a26b-80b53161a4ba",
   "metadata": {},
   "outputs": [],
   "source": [
    "split = 'test'"
   ]
  },
  {
   "cell_type": "code",
   "execution_count": 36,
   "id": "360d0468-88d7-4b0b-b260-b2870773ede9",
   "metadata": {},
   "outputs": [],
   "source": [
    "cset = load_manifest(f'/export/fs06/xhe69/TS-ASR-Whisper/data/manifests/ami-sdm_{split}_sc_cutset.jsonl.gz')"
   ]
  },
  {
   "cell_type": "code",
   "execution_count": 37,
   "id": "762264ac-1934-4873-8c1d-357d319343b9",
   "metadata": {},
   "outputs": [
    {
     "name": "stdout",
     "output_type": "stream",
     "text": [
      "Cut statistics:\n",
      "╒═══════════════════════════╤══════════╕\n",
      "│ Cuts count:               │ 16       │\n",
      "├───────────────────────────┼──────────┤\n",
      "│ Total duration (hh:mm:ss) │ 09:03:45 │\n",
      "├───────────────────────────┼──────────┤\n",
      "│ mean                      │ 2039.0   │\n",
      "├───────────────────────────┼──────────┤\n",
      "│ std                       │ 536.0    │\n",
      "├───────────────────────────┼──────────┤\n",
      "│ min                       │ 839.0    │\n",
      "├───────────────────────────┼──────────┤\n",
      "│ 25%                       │ 1812.3   │\n",
      "├───────────────────────────┼──────────┤\n",
      "│ 50%                       │ 2176.3   │\n",
      "├───────────────────────────┼──────────┤\n",
      "│ 75%                       │ 2337.1   │\n",
      "├───────────────────────────┼──────────┤\n",
      "│ 99%                       │ 2919.1   │\n",
      "├───────────────────────────┼──────────┤\n",
      "│ 99.5%                     │ 2945.7   │\n",
      "├───────────────────────────┼──────────┤\n",
      "│ 99.9%                     │ 2966.9   │\n",
      "├───────────────────────────┼──────────┤\n",
      "│ max                       │ 2972.3   │\n",
      "├───────────────────────────┼──────────┤\n",
      "│ Recordings available:     │ 16       │\n",
      "├───────────────────────────┼──────────┤\n",
      "│ Features available:       │ 0        │\n",
      "├───────────────────────────┼──────────┤\n",
      "│ Supervisions available:   │ 11589    │\n",
      "╘═══════════════════════════╧══════════╛\n",
      "Speech duration statistics:\n",
      "╒══════════════════════════════╤══════════╤═════════════════════╕\n",
      "│ Total speech duration        │ 07:17:27 │ 80.45% of recording │\n",
      "├──────────────────────────────┼──────────┼─────────────────────┤\n",
      "│ Total speaking time duration │ 08:31:56 │ 94.15% of recording │\n",
      "├──────────────────────────────┼──────────┼─────────────────────┤\n",
      "│ Total silence duration       │ 01:46:19 │ 19.55% of recording │\n",
      "╘══════════════════════════════╧══════════╧═════════════════════╛\n"
     ]
    }
   ],
   "source": [
    "cset.describe()"
   ]
  },
  {
   "cell_type": "code",
   "execution_count": 38,
   "id": "5ee2d5e8-d048-40c9-875b-d634e05b474b",
   "metadata": {},
   "outputs": [
    {
     "name": "stdout",
     "output_type": "stream",
     "text": [
      "399\n"
     ]
    }
   ],
   "source": [
    "chunk_duration = 90\n",
    "overlap_duration = 10\n",
    "step = chunk_duration - overlap_duration\n",
    "new_cuts = []\n",
    "\n",
    "for cut in cset:\n",
    "    start = 0.0\n",
    "    while start + chunk_duration <= cut.duration:\n",
    "        chunk = cut.truncate(\n",
    "            offset=start,\n",
    "            duration=chunk_duration,\n",
    "            preserve_id=False  # Set to True only if you want to keep original ID\n",
    "        )\n",
    "        new_cuts.append(chunk)\n",
    "        start += step\n",
    "        \n",
    "print(len(new_cuts))\n",
    "# Create a new CutSet\n",
    "chunked_cset = CutSet.from_cuts(new_cuts)\n"
   ]
  },
  {
   "cell_type": "code",
   "execution_count": 39,
   "id": "914731f7-ef08-4a9e-8b30-d8e35a7c231d",
   "metadata": {},
   "outputs": [
    {
     "name": "stdout",
     "output_type": "stream",
     "text": [
      "Cut statistics:\n",
      "╒═══════════════════════════╤══════════╕\n",
      "│ Cuts count:               │ 399      │\n",
      "├───────────────────────────┼──────────┤\n",
      "│ Total duration (hh:mm:ss) │ 09:58:30 │\n",
      "├───────────────────────────┼──────────┤\n",
      "│ mean                      │ 90.0     │\n",
      "├───────────────────────────┼──────────┤\n",
      "│ std                       │ 0.0      │\n",
      "├───────────────────────────┼──────────┤\n",
      "│ min                       │ 90.0     │\n",
      "├───────────────────────────┼──────────┤\n",
      "│ 25%                       │ 90.0     │\n",
      "├───────────────────────────┼──────────┤\n",
      "│ 50%                       │ 90.0     │\n",
      "├───────────────────────────┼──────────┤\n",
      "│ 75%                       │ 90.0     │\n",
      "├───────────────────────────┼──────────┤\n",
      "│ 99%                       │ 90.0     │\n",
      "├───────────────────────────┼──────────┤\n",
      "│ 99.5%                     │ 90.0     │\n",
      "├───────────────────────────┼──────────┤\n",
      "│ 99.9%                     │ 90.0     │\n",
      "├───────────────────────────┼──────────┤\n",
      "│ max                       │ 90.0     │\n",
      "├───────────────────────────┼──────────┤\n",
      "│ Recordings available:     │ 399      │\n",
      "├───────────────────────────┼──────────┤\n",
      "│ Features available:       │ 0        │\n",
      "├───────────────────────────┼──────────┤\n",
      "│ Supervisions available:   │ 13167    │\n",
      "╘═══════════════════════════╧══════════╛\n",
      "Speech duration statistics:\n",
      "╒══════════════════════════════╤══════════╤═════════════════════╕\n",
      "│ Total speech duration        │ 02:05:24 │ 20.95% of recording │\n",
      "├──────────────────────────────┼──────────┼─────────────────────┤\n",
      "│ Total speaking time duration │ 09:28:27 │ 94.98% of recording │\n",
      "├──────────────────────────────┼──────────┼─────────────────────┤\n",
      "│ Total silence duration       │ 07:53:07 │ 79.05% of recording │\n",
      "╘══════════════════════════════╧══════════╧═════════════════════╛\n"
     ]
    }
   ],
   "source": [
    "chunked_cset.describe()"
   ]
  },
  {
   "cell_type": "code",
   "execution_count": 40,
   "id": "f4ab37bc-a00f-46dd-94b0-58947eb70dae",
   "metadata": {},
   "outputs": [
    {
     "name": "stdout",
     "output_type": "stream",
     "text": [
      "-2.92 5.070000000000007 MTD009PM\n",
      "2.15 1.8900000000000006 MTD009PM\n",
      "4.04 2.1699999999999875 MTD009PM\n",
      "6.21 5.210000000000008 MTD009PM\n",
      "11.42 2.4099999999999966 MTD009PM\n",
      "13.83 2.1700000000000017 MTD009PM\n",
      "16.0 2.0 MTD009PM\n",
      "19.11 3.0999999999999943 MTD009PM\n",
      "22.21 5.260000000000005 MTD009PM\n",
      "29.64 2.9200000000000017 MTD009PM\n",
      "29.75 0.21999999999999886 MTD011UID\n",
      "34.8 6.969999999999999 MTD009PM\n",
      "41.77 2.9200000000000017 MTD009PM\n",
      "44.69 2.8900000000000006 MTD009PM\n",
      "47.58 10.11 MTD009PM\n",
      "57.69 2.180000000000007 MTD009PM\n",
      "61.37 14.740000000000009 MTD009PM\n",
      "76.11 1.4399999999999977 MTD009PM\n",
      "78.44 4.900000000000006 MTD009PM\n",
      "85.11 8.909999999999997 MTD009PM\n",
      "2\n"
     ]
    }
   ],
   "source": [
    "example = chunked_cset[1]\n",
    "speakers = set()\n",
    "for sup in example.supervisions:\n",
    "    speakers.add(sup.speaker)\n",
    "    print(sup.start, sup.duration, sup.speaker)\n",
    "print(len(speakers))"
   ]
  },
  {
   "cell_type": "code",
   "execution_count": 41,
   "id": "d3169a87-fc8b-4cf5-a57f-5df1aaca2c74",
   "metadata": {},
   "outputs": [],
   "source": [
    "rttm_dir = f\"data/nemo/rttms/ami_sdm_{split}_90schunks\"\n",
    "os.makedirs(rttm_dir, exist_ok=True)"
   ]
  },
  {
   "cell_type": "code",
   "execution_count": 44,
   "id": "b610a4c3-b234-4d5e-9236-5b124c5d5866",
   "metadata": {},
   "outputs": [
    {
     "name": "stderr",
     "output_type": "stream",
     "text": [
      "100%|██████████████████████████████████████████████████████████████████████████████████████████████████████████████████████████████████████████████████████████████████████████████| 399/399 [00:00<00:00, 809.95it/s]\n"
     ]
    }
   ],
   "source": [
    "nemo_manifest_path = f\"data/nemo/manifests/ami-sdm_{split}_sc_cutset_nemo_90schunks.jsonl\"\n",
    "speaker_durations = [0.0, 0.0, 0.0, 0.0, 0.0]\n",
    "with open(nemo_manifest_path, \"w\") as nemo_out:\n",
    "\n",
    "    for cut in tqdm(chunked_cset):\n",
    "        recording_id = cut.id\n",
    "        rttm_lines = []\n",
    "        num_speakers = 0\n",
    "        all_texts = []\n",
    "        \n",
    "        if cut.supervisions:\n",
    "            speakers = set()\n",
    "            for sup in cut.supervisions:\n",
    "                rttm_line = (\n",
    "                    f\"SPEAKER {recording_id} 1 {sup.start+cut.start:.2f} {sup.duration:.2f} <NA> <NA> {sup.speaker} <NA> <NA>\"\n",
    "                )\n",
    "                rttm_lines.append(rttm_line)\n",
    "                speakers.add(sup.speaker)\n",
    "                if sup.text:\n",
    "                    all_texts.append(sup.text)\n",
    "            num_speakers = len(speakers)\n",
    "        else:\n",
    "            num_speakers = 0\n",
    "        \n",
    "        if num_speakers > 4:\n",
    "            continue\n",
    "        # if num_speakers == 1:\n",
    "            # continue\n",
    "        # if cut.duration < 5:\n",
    "        #     continue\n",
    "        speaker_durations[num_speakers-1] += cut.duration\n",
    "        # Write RTTM\n",
    "        rttm_path = os.path.join(rttm_dir, f\"{recording_id}.rttm\")\n",
    "        with open(rttm_path, \"w\") as rttm_out:\n",
    "            rttm_out.write(\"\\n\".join(rttm_lines))\n",
    "\n",
    "        # Build text field\n",
    "        combined_text = \" \".join(all_texts) if all_texts else \"-\"\n",
    "\n",
    "        # Build NeMo entry\n",
    "        nemo_entry = {\n",
    "            \"audio_filepath\": cut.recording.sources[0].source,\n",
    "            \"offset\": cut.start,\n",
    "            \"duration\": cut.duration,\n",
    "            \"label\": \"infer\",\n",
    "            \"text\": combined_text,\n",
    "            \"num_speakers\": num_speakers,\n",
    "            \"rttm_filepath\": os.path.abspath(rttm_path)\n",
    "        }\n",
    "        nemo_out.write(json.dumps(nemo_entry) + \"\\n\")"
   ]
  },
  {
   "cell_type": "code",
   "execution_count": 45,
   "id": "fd44ed87-2cfe-4288-9f48-22c4e395482b",
   "metadata": {},
   "outputs": [
    {
     "data": {
      "text/plain": [
       "[990.0, 3060.0, 9180.0, 22410.0, 270.0]"
      ]
     },
     "execution_count": 45,
     "metadata": {},
     "output_type": "execute_result"
    }
   ],
   "source": [
    "speaker_durations"
   ]
  },
  {
   "cell_type": "code",
   "execution_count": null,
   "id": "ca337f9b-4e2d-465b-8a80-471ab5790069",
   "metadata": {},
   "outputs": [],
   "source": [
    "# 30s: [41250.0, 88260.0, 147480.0, 137880.0, 9810.0]\n",
    "# 90s: [9000.0, 24750.0, 81090.0, 193680.0, 5220.0]"
   ]
  }
 ],
 "metadata": {
  "kernelspec": {
   "display_name": "Python 3 (ipykernel)",
   "language": "python",
   "name": "python3"
  },
  "language_info": {
   "codemirror_mode": {
    "name": "ipython",
    "version": 3
   },
   "file_extension": ".py",
   "mimetype": "text/x-python",
   "name": "python",
   "nbconvert_exporter": "python",
   "pygments_lexer": "ipython3",
   "version": "3.11.11"
  }
 },
 "nbformat": 4,
 "nbformat_minor": 5
}
