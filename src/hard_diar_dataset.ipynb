{
 "cells": [
  {
   "cell_type": "code",
   "execution_count": 1,
   "id": "43beac96-9eb8-4232-8ef1-508911d5b5e2",
   "metadata": {},
   "outputs": [],
   "source": [
    "import lhotse\n",
    "from data.local_datasets import build_dataset, TS_ASR_Dataset, TS_ASR_Random_Dataset, DataCollator, get_text_norm, TS_ASR_HEAT_Dataset, LhotseLongFormDataset\n",
    "import matplotlib.pyplot as plt\n",
    "import numpy as np\n",
    "from IPython.display import Audio\n",
    "from tqdm import tqdm\n",
    "from txt_norm import get_text_norm\n",
    "from transformers.models.whisper import WhisperFeatureExtractor\n",
    "from tqdm import tqdm\n",
    "from collections import namedtuple\n",
    "from typing import List, Tuple\n",
    "from lhotse import SupervisionSegment\n",
    "\n",
    "from pyannote.metrics.diarization import DiarizationErrorRate\n",
    "from pyannote.core import Annotation, Segment"
   ]
  },
  {
   "cell_type": "code",
   "execution_count": 2,
   "id": "07e83172-5bcf-461a-bf58-71a126ef5efd",
   "metadata": {},
   "outputs": [],
   "source": [
    "class dotdict(dict):\n",
    "    \"\"\"dot.notation access to dictionary attributes\"\"\"\n",
    "    __getattr__ = dict.get\n",
    "    __setattr__ = dict.__setitem__\n",
    "    __delattr__ = dict.__delitem__"
   ]
  },
  {
   "cell_type": "code",
   "execution_count": null,
   "id": "762d03dd-7673-4858-935a-c5a22cfe69fe",
   "metadata": {},
   "outputs": [],
   "source": [
    "data_args = {\n",
    "    'train_cutsets': ['/export/fs06/xhe69/TS-ASR-Whisper/data/manifests/ami-sdm_train_sc_cutset_30s.jsonl.gz'],\n",
    "    # 'train_cutsets': ['/export/fs06/xhe69/TS-ASR-Whisper/data/manifests/ami-sdm_train_sc_cutset.jsonl.gz'],\n",
    "    # 'dev_cutsets': ['/export/fs06/xhe69/TS-ASR-Whisper/data/manifests/ami-sdm_dev_sc_cutset.jsonl.gz'],\n",
    "    'eval_cutsets': ['/export/fs06/xhe69/TS-ASR-Whisper/data/manifests/ami-sdm_test_sc_cutset.jsonl.gz'],\n",
    "    'eval_diar_cutsets': ['/export/fs06/xhe69/TS-ASR-Whisper/diar_exp/diarizen_large/diarized_cutsets/ami-sdm_test_sc_cutset.jsonl.gz'],\n",
    "    'dev_cutsets':['/export/fs06/xhe69/TS-ASR-Whisper/data/manifests/ami-sdm_test_sc_cutset.jsonl.gz'],\n",
    "    'dev_diar_cutsets':['/export/fs06/xhe69/TS-ASR-Whisper/diar_exp/diarizen_large/diarized_cutsets/ami-sdm_test_sc_cutset.jsonl.gz'],\n",
    "    'do_augment': False,\n",
    "    'dataset_weights': None,\n",
    "    'use_timestamps': True,\n",
    "    'musan_noises': None,\n",
    "    'train_text_norm': \"whisper_nsf\",\n",
    "    'empty_transcripts_ratio': 0.0,\n",
    "    'train_with_diar_outputs': None,\n",
    "    'audio_path_prefix': None,\n",
    "    'audio_path_prefix_replacement': None,\n",
    "    'vad_from_alignments': False,\n",
    "    'random_sentence_l_crop_p': 0.0,\n",
    "    'random_sentence_r_crop_p': 0.0,\n",
    "    'max_l_crop': 0,\n",
    "    'max_r_crop': 0,\n",
    "    'cache_features_for_dev': False,\n",
    "    'eval_text_norm': 'whisper_nsf',\n",
    "    'dev_diar_cutsets': None,\n",
    "    'use_heat_diar': False,\n",
    "    # 'oracle_heat_assignment_method': 'keepchannel',\n",
    "    # 'num_heat_channels': 2,\n",
    "    'diar_type': 'hard',\n",
    "}\n",
    "\n",
    "data_args = dotdict(data_args)\n",
    "train_cutsets = [lhotse.load_manifest(cutset) for cutset in data_args.train_cutsets]"
   ]
  },
  {
   "cell_type": "code",
   "execution_count": 4,
   "id": "95681c7e-3d85-4801-b8b7-c9d520664ec2",
   "metadata": {},
   "outputs": [],
   "source": [
    "def plot_diarization(diarization_array, frame_rate=1, speaker_labels=None, title=\"Speaker Diarization\"):\n",
    "    \"\"\"\n",
    "    Visualize diarization output as a heatmap.\n",
    "\n",
    "    Parameters:\n",
    "    - diarization_array: np.ndarray of shape (num_speakers, num_frames)\n",
    "    - frame_rate: int or float, number of frames per second (for x-axis time labeling)\n",
    "    - speaker_labels: list of str, custom labels for speakers (optional)\n",
    "    - title: str, plot title\n",
    "    \"\"\"\n",
    "    num_speakers, num_frames = diarization_array.shape\n",
    "\n",
    "    plt.figure(figsize=(15, num_speakers * 0.5 + 1))\n",
    "    plt.imshow(diarization_array, aspect='auto', interpolation='none', cmap='Greys')\n",
    "    plt.colorbar(label=\"Activity (1=active, 0=inactive)\")\n",
    "\n",
    "    # X-axis: time in seconds\n",
    "    x_ticks = np.linspace(0, num_frames - 1, 10, dtype=int)\n",
    "    x_labels = (x_ticks / frame_rate).round(2)\n",
    "    plt.xticks(ticks=x_ticks, labels=x_labels)\n",
    "    plt.xlabel(\"Time (s)\")\n",
    "\n",
    "    # Y-axis: speakers\n",
    "    if speaker_labels is None:\n",
    "        speaker_labels = [f\"Speaker {i}\" for i in range(num_speakers)]\n",
    "    plt.yticks(ticks=np.arange(num_speakers), labels=speaker_labels)\n",
    "\n",
    "    plt.title(title)\n",
    "    # plt.ylabel(\"Speakers\")\n",
    "    plt.tight_layout()\n",
    "    plt.show()"
   ]
  },
  {
   "cell_type": "code",
   "execution_count": null,
   "id": "fc4208ea-d3e0-4417-b01c-427e5ad632e5",
   "metadata": {},
   "outputs": [
    {
     "name": "stderr",
     "output_type": "stream",
     "text": [
      "loading configuration file preprocessor_config.json from cache at /home/xhe69/.cache/huggingface/hub/models--openai--whisper-large-v3-turbo/snapshots/41f01f3fe87f28c78e2fbf8b568835947dd65ed9/preprocessor_config.json\n",
      "Feature extractor WhisperFeatureExtractor {\n",
      "  \"chunk_length\": 30,\n",
      "  \"feature_extractor_type\": \"WhisperFeatureExtractor\",\n",
      "  \"feature_size\": 128,\n",
      "  \"hop_length\": 160,\n",
      "  \"n_fft\": 400,\n",
      "  \"n_samples\": 480000,\n",
      "  \"nb_max_frames\": 3000,\n",
      "  \"padding_side\": \"right\",\n",
      "  \"padding_value\": 0.0,\n",
      "  \"processor_class\": \"WhisperProcessor\",\n",
      "  \"return_attention_mask\": false,\n",
      "  \"sampling_rate\": 16000\n",
      "}\n",
      "\n",
      "Using LhotseLongFormDataset\n",
      "Using LhotseLongFormDataset\n"
     ]
    }
   ],
   "source": [
    "dec_args = {\n",
    "    'soft_vad_temp': None,\n",
    "}\n",
    "container = {\n",
    "    'feature_extractor': WhisperFeatureExtractor.from_pretrained('openai/whisper-large-v3-turbo'),\n",
    "}\n",
    "dec_args = dotdict(dec_args)\n",
    "container = dotdict(container)\n",
    "\n",
    "text_norm = get_text_norm(data_args.eval_text_norm)\n",
    "\n",
    "dev_dataset = build_dataset(data_args.eval_cutsets, data_args, dec_args, text_norm, container,\n",
    "                                data_args.eval_diar_cutsets)\n",
    "data_args_oracle = data_args.copy()\n",
    "data_args_oracle['diar_type'] = 'oracle'\n",
    "data_args_oracle = dotdict(data_args_oracle)\n",
    "dev_dataset_oracle = build_dataset(data_args_oracle.eval_cutsets, data_args_oracle, dec_args, text_norm, container,\n",
    "                                data_args_oracle.eval_diar_cutsets)"
   ]
  },
  {
   "cell_type": "code",
   "execution_count": null,
   "id": "77ea545f-d3a5-407a-b80d-59fef282c9c2",
   "metadata": {},
   "outputs": [
    {
     "name": "stdout",
     "output_type": "stream",
     "text": [
      "True\n",
      "False\n"
     ]
    }
   ],
   "source": [
    "print(dev_dataset.diar_type)\n",
    "print(dev_dataset_oracle.diar_type)"
   ]
  },
  {
   "cell_type": "code",
   "execution_count": 9,
   "id": "53ef9e79-62ab-4c68-a499-2b667f1768ee",
   "metadata": {},
   "outputs": [],
   "source": [
    "def make_annotation(activity, frame_duration=0.1):\n",
    "    num_speakers, num_frames = activity.shape\n",
    "    \n",
    "    annotation = Annotation()\n",
    "    for s in range(num_speakers):\n",
    "        label = f\"speaker{s}\"\n",
    "        active = activity[s]\n",
    "        start_frame = None\n",
    "        for t, v in enumerate(active):\n",
    "            if v == 1 and start_frame is None:\n",
    "                start_frame = t\n",
    "            elif v == 0 and start_frame is not None:\n",
    "                start_time = start_frame * frame_duration\n",
    "                end_time = t * frame_duration\n",
    "                annotation[Segment(start_time, end_time)] = label\n",
    "                start_frame = None\n",
    "        # flush if ends in active\n",
    "        if start_frame is not None:\n",
    "            start_time = start_frame * frame_duration\n",
    "            end_time = num_frames * frame_duration\n",
    "            annotation[Segment(start_time, end_time)] = label\n",
    "        \n",
    "    return annotation\n"
   ]
  },
  {
   "cell_type": "code",
   "execution_count": 10,
   "id": "70e6309c-0ca9-4deb-ae99-a0848bd56955",
   "metadata": {},
   "outputs": [
    {
     "name": "stderr",
     "output_type": "stream",
     "text": [
      "  0%|                                                                                                                                                                                          | 0/69 [00:00<?, ?it/s]/home/xhe69/.conda/envs/ts_asr_whisper/lib/python3.11/site-packages/pyannote/metrics/utils.py:200: UserWarning: 'uem' was approximated by the union of 'reference' and 'hypothesis' extents.\n",
      "  warnings.warn(\n",
      "  1%|██▌                                                                                                                                                                             | 1/69 [00:56<1:04:10, 56.62s/it]"
     ]
    },
    {
     "name": "stdout",
     "output_type": "stream",
     "text": [
      "TS3003c-0 0.1234163221973015\n"
     ]
    },
    {
     "name": "stderr",
     "output_type": "stream",
     "text": [
      "  7%|████████████▉                                                                                                                                                                     | 5/69 [01:59<27:11, 25.49s/it]"
     ]
    },
    {
     "name": "stdout",
     "output_type": "stream",
     "text": [
      "IS1009b-1 0.1135787791460515\n"
     ]
    },
    {
     "name": "stderr",
     "output_type": "stream",
     "text": [
      " 14%|█████████████████████████▋                                                                                                                                                       | 10/69 [02:53<17:44, 18.03s/it]"
     ]
    },
    {
     "name": "stdout",
     "output_type": "stream",
     "text": [
      "EN2002b-2 0.15161682116601236\n"
     ]
    },
    {
     "name": "stderr",
     "output_type": "stream",
     "text": [
      " 20%|███████████████████████████████████▉                                                                                                                                             | 14/69 [03:24<11:17, 12.32s/it]"
     ]
    },
    {
     "name": "stdout",
     "output_type": "stream",
     "text": [
      "ES2004a-3 0.1769086147422933\n"
     ]
    },
    {
     "name": "stderr",
     "output_type": "stream",
     "text": [
      " 26%|██████████████████████████████████████████████▏                                                                                                                                  | 18/69 [04:31<18:51, 22.18s/it]"
     ]
    },
    {
     "name": "stdout",
     "output_type": "stream",
     "text": [
      "TS3003d-4 0.18100728317930712\n"
     ]
    },
    {
     "name": "stderr",
     "output_type": "stream",
     "text": [
      " 32%|████████████████████████████████████████████████████████▍                                                                                                                        | 22/69 [05:02<10:13, 13.05s/it]"
     ]
    },
    {
     "name": "stdout",
     "output_type": "stream",
     "text": [
      "IS1009a-5 0.15880582147547104\n"
     ]
    },
    {
     "name": "stderr",
     "output_type": "stream",
     "text": [
      " 39%|█████████████████████████████████████████████████████████████████████▎                                                                                                           | 27/69 [06:01<13:00, 18.58s/it]"
     ]
    },
    {
     "name": "stdout",
     "output_type": "stream",
     "text": [
      "EN2002a-6 0.1715271810588181\n"
     ]
    },
    {
     "name": "stderr",
     "output_type": "stream",
     "text": [
      " 45%|███████████████████████████████████████████████████████████████████████████████▌                                                                                                 | 31/69 [07:18<16:33, 26.15s/it]"
     ]
    },
    {
     "name": "stdout",
     "output_type": "stream",
     "text": [
      "ES2004b-7 0.11675064279297054\n"
     ]
    },
    {
     "name": "stderr",
     "output_type": "stream",
     "text": [
      " 54%|██████████████████████████████████████████████████████████████████████████████████████████████▉                                                                                  | 37/69 [08:26<10:24, 19.51s/it]"
     ]
    },
    {
     "name": "stdout",
     "output_type": "stream",
     "text": [
      "EN2002d-8 1.2057572232348275\n"
     ]
    },
    {
     "name": "stderr",
     "output_type": "stream",
     "text": [
      " 59%|█████████████████████████████████████████████████████████████████████████████████████████████████████████▏                                                                       | 41/69 [09:23<09:27, 20.25s/it]"
     ]
    },
    {
     "name": "stdout",
     "output_type": "stream",
     "text": [
      "IS1009d-9 0.9561271237606263\n"
     ]
    },
    {
     "name": "stderr",
     "output_type": "stream",
     "text": [
      " 65%|███████████████████████████████████████████████████████████████████████████████████████████████████████████████████▍                                                             | 45/69 [10:17<07:53, 19.72s/it]"
     ]
    },
    {
     "name": "stdout",
     "output_type": "stream",
     "text": [
      "TS3003b-10 1.019516022315432\n"
     ]
    },
    {
     "name": "stderr",
     "output_type": "stream",
     "text": [
      " 71%|█████████████████████████████████████████████████████████████████████████████████████████████████████████████████████████████▋                                                   | 49/69 [11:13<06:41, 20.05s/it]"
     ]
    },
    {
     "name": "stdout",
     "output_type": "stream",
     "text": [
      "IS1009c-11 0.870826845453156\n"
     ]
    },
    {
     "name": "stderr",
     "output_type": "stream",
     "text": [
      " 77%|███████████████████████████████████████████████████████████████████████████████████████████████████████████████████████████████████████▉                                         | 53/69 [12:25<06:38, 24.91s/it]"
     ]
    },
    {
     "name": "stdout",
     "output_type": "stream",
     "text": [
      "EN2002c-12 1.225895849244713\n"
     ]
    },
    {
     "name": "stderr",
     "output_type": "stream",
     "text": [
      " 83%|██████████████████████████████████████████████████████████████████████████████████████████████████████████████████████████████████████████████████▏                              | 57/69 [13:35<05:03, 25.31s/it]"
     ]
    },
    {
     "name": "stdout",
     "output_type": "stream",
     "text": [
      "ES2004c-13 0.998436551934226\n"
     ]
    },
    {
     "name": "stderr",
     "output_type": "stream",
     "text": [
      " 90%|███████████████████████████████████████████████████████████████████████████████████████████████████████████████████████████████████████████████████████████████                  | 62/69 [14:31<02:09, 18.48s/it]"
     ]
    },
    {
     "name": "stdout",
     "output_type": "stream",
     "text": [
      "ES2004d-14 1.8535932266191573\n"
     ]
    },
    {
     "name": "stderr",
     "output_type": "stream",
     "text": [
      " 91%|█████████████████████████████████████████████████████████████████████████████████████████████████████████████████████████████████████████████████████████████████▌               | 63/69 [14:35<01:23, 13.90s/it]\n"
     ]
    }
   ],
   "source": [
    "# diarizationErrorRate = DiarizationErrorRate(collar=0.25)\n",
    "processed_ids = set()\n",
    "for batch_idx, (batch, batch_oracle) in tqdm(enumerate(zip(dev_dataset, dev_dataset_oracle)), total=len(dev_dataset)):\n",
    "    diarizationErrorRate = DiarizationErrorRate(collar=0.25)\n",
    "    speaker_id = batch['transcript'].split(',')[0]\n",
    "    if speaker_id in processed_ids:\n",
    "        continue\n",
    "    processed_ids.add(speaker_id)\n",
    "    \n",
    "    hyp_diar = batch['spk_mask']\n",
    "    target_diar = batch_oracle['spk_mask']\n",
    "    \n",
    "    reference = make_annotation(target_diar)\n",
    "    hypothesis = make_annotation(hyp_diar)\n",
    "\n",
    "    der = diarizationErrorRate(reference, hypothesis)\n",
    "    # global_value = abs(diarizationErrorRate)\n",
    "    print(speaker_id, der)\n",
    "\n",
    "# overall_der = diarizationErrorRate.compute_metric()\n",
    "# print(overall_der)"
   ]
  },
  {
   "cell_type": "markdown",
   "id": "fa688c95-74a3-45fb-a12e-c4f94bd93845",
   "metadata": {},
   "source": [
    "{'session_id': 'IS1009b28', 'start_time': Dec\n",
    "imal('660'), 'end_time': Decimal('690'), 'speaker': '0', 'words': 'of course and it is not to o bad for me be able do that because it is o bad for me be able do that because it is o bad for me be able do that becau\n",
    "se it is o bad for me be able do that because it is o bad for me be able do that because it is o bad for me be able do that because it is o bad for me be able do that because it is o bad for me be able do that beca\n",
    "use it is o bad for me be able do that because it is o bad for me be able do that because it is o bad for me be able do that because it is o bad for me be able do that because it is o bad for me be able do that bec\n",
    "ause it is o bad for me be able do that because it is o bad for me be able do that because it is o bad for me be able do that because it is o bad for me be able do that'}, {'session_id': 'IS1009b28', 'start_time': \n",
    "Decimal('660'), 'end_time': Decimal('690'), 'speaker': '1', 'words': 'of course and it is not to o bad for me be able do that because it is o bad for me be able do that because it is o bad for me be able do that be\n",
    "cause it is o bad for me be able do that because it is o bad for me be able do that because it is o bad for me be able do that because it is o bad for me be able do that because it is o bad for me be able do that b\n",
    "ecause it is o bad for me be able do that because it is o bad for me be able do that because it is o bad for me be able do that because it is o bad for me be able do that because it is o bad for me be able do that \n",
    "because it is o bad for me be able do that because it is o bad for me be able do that because it is o bad for me be able do that because it is o bad for me be able do that'}, {'session_id': 'IS1009b28', 'start_time\n",
    "': Decimal('660'), 'end_time': Decimal('690'), 'speaker': '2', 'words': 'of course and it is not to o bad for me be able do that because it is o bad for me be able do that because it is o bad for me be able do that\n",
    " because it is o bad for me be able do that because it is o bad for me be able do that because it is o bad for me be able do that because it is o bad for me be able do that because it is o bad for me be able do tha\n",
    "t because it is o bad for me be able do that because it is o bad for me be able do that because it is o bad for me be able do that because it is o bad for me be able do that because it is o bad for me be able do th\n",
    "at because it is o bad for me be able do that because it is o bad for me be able do that because it is o bad for me be able do that because it is o bad for me be able do that'}, {'session_id': 'IS1009b28', 'start_t\n",
    "ime': Decimal('660'), 'end_time': Decimal('690'), 'speaker': '3', 'words': 'of course and it is not to o bad for me be able do that because it is o bad for me be able do that because it is o bad for me be able do t\n",
    "hat because it is o bad for me be able do that because it is o bad for me be able do that because it is o bad for me be able do that because it is o bad for me be able do that because it is o bad for me be able do \n",
    "that because it is o bad for me be able do that because it is o bad for me be able do that because it is o bad for me be able do that because it is o bad for me be able do that because it is o bad for me be able do\n",
    " that because it is o bad for me be able do that because it is o bad for me be able do that because it is o bad for me be able do that because it is o bad for me be able do that'}"
   ]
  },
  {
   "cell_type": "code",
   "execution_count": null,
   "id": "c4225813-59e4-4c12-ab4e-e1ae130cff7f",
   "metadata": {},
   "outputs": [],
   "source": []
  }
 ],
 "metadata": {
  "kernelspec": {
   "display_name": "Python 3 (ipykernel)",
   "language": "python",
   "name": "python3"
  },
  "language_info": {
   "codemirror_mode": {
    "name": "ipython",
    "version": 3
   },
   "file_extension": ".py",
   "mimetype": "text/x-python",
   "name": "python",
   "nbconvert_exporter": "python",
   "pygments_lexer": "ipython3",
   "version": "3.11.11"
  }
 },
 "nbformat": 4,
 "nbformat_minor": 5
}
