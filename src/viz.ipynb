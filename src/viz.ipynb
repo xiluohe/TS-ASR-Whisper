{
 "cells": [
  {
   "cell_type": "code",
   "execution_count": 1,
   "id": "d94b0c67-df70-4aad-ab7e-2a57db9f69ed",
   "metadata": {},
   "outputs": [],
   "source": [
    "import webbrowser\n",
    "import os"
   ]
  },
  {
   "cell_type": "code",
   "execution_count": 2,
   "id": "f5c1cd48-ad3a-4886-b62e-ce67fc36fea5",
   "metadata": {},
   "outputs": [
    {
     "data": {
      "text/plain": [
       "False"
      ]
     },
     "execution_count": 2,
     "metadata": {},
     "output_type": "execute_result"
    }
   ],
   "source": [
    "path = os.path.abspath('/export/fs06/xhe69/TS-ASR-Whisper/exp/HEAT_tcorc_wer/dev/11415/wer/ES2011a/viz.html')\n",
    "webbrowser.open('file://' + path)"
   ]
  },
  {
   "cell_type": "code",
   "execution_count": null,
   "id": "a48f32de-3b5e-4770-9a29-55a375bb2ca2",
   "metadata": {},
   "outputs": [],
   "source": []
  }
 ],
 "metadata": {
  "kernelspec": {
   "display_name": "Python 3 (ipykernel)",
   "language": "python",
   "name": "python3"
  },
  "language_info": {
   "codemirror_mode": {
    "name": "ipython",
    "version": 3
   },
   "file_extension": ".py",
   "mimetype": "text/x-python",
   "name": "python",
   "nbconvert_exporter": "python",
   "pygments_lexer": "ipython3",
   "version": "3.11.11"
  }
 },
 "nbformat": 4,
 "nbformat_minor": 5
}
